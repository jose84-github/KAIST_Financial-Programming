{
 "cells": [
  {
   "cell_type": "code",
   "execution_count": 1,
   "metadata": {},
   "outputs": [
    {
     "name": "stdout",
     "output_type": "stream",
     "text": [
      "2\n",
      "3\n"
     ]
    }
   ],
   "source": [
    "for i in range(2,4):\n",
    "    print(i)"
   ]
  },
  {
   "cell_type": "code",
   "execution_count": 2,
   "metadata": {
    "scrolled": true
   },
   "outputs": [
    {
     "name": "stdout",
     "output_type": "stream",
     "text": [
      "2 0\n",
      "3 1\n",
      "4 2\n",
      "5 0\n",
      "6 4\n",
      "7 3\n",
      "8 2\n",
      "9 1\n"
     ]
    }
   ],
   "source": [
    "i = 10\n",
    "for j in range(2,i):\n",
    "    print(j, i%j)"
   ]
  },
  {
   "cell_type": "code",
   "execution_count": 6,
   "metadata": {},
   "outputs": [
    {
     "name": "stdout",
     "output_type": "stream",
     "text": [
      "2 0\n",
      "5 0\n"
     ]
    }
   ],
   "source": [
    "i = 10\n",
    "for j in range(2,i):\n",
    "    if i%j==0:\n",
    "        print(j, i%j)"
   ]
  },
  {
   "cell_type": "code",
   "execution_count": 3,
   "metadata": {},
   "outputs": [
    {
     "name": "stdout",
     "output_type": "stream",
     "text": [
      "2 0\n",
      "3 0\n",
      "3 1\n",
      "4 0\n",
      "4 0\n",
      "4 1\n",
      "5 0\n",
      "5 1\n",
      "5 2\n",
      "5 1\n",
      "6 0\n",
      "6 0\n",
      "6 0\n",
      "6 2\n",
      "6 1\n",
      "7 0\n",
      "7 1\n",
      "7 1\n",
      "7 3\n",
      "7 2\n",
      "7 1\n",
      "8 0\n",
      "8 0\n",
      "8 2\n",
      "8 0\n",
      "8 3\n",
      "8 2\n",
      "8 1\n",
      "9 0\n",
      "9 1\n",
      "9 0\n",
      "9 1\n",
      "9 4\n",
      "9 3\n",
      "9 2\n",
      "9 1\n"
     ]
    }
   ],
   "source": [
    "n=10\n",
    "for i in range(2, n):\n",
    "    for j in range(1, i):\n",
    "        print(i, i%j)"
   ]
  },
  {
   "cell_type": "code",
   "execution_count": 4,
   "metadata": {},
   "outputs": [],
   "source": [
    "def prime(n):\n",
    "    f = []\n",
    "    \n",
    "    for i in range(2, n):\n",
    "        zero = 0\n",
    "        \n",
    "        for j in range(1, i):\n",
    "            if i%j == 0:\n",
    "                zero += 1\n",
    "        \n",
    "        if zero == 1:\n",
    "            f.append(i)\n",
    "            \n",
    "    return f"
   ]
  },
  {
   "cell_type": "code",
   "execution_count": 5,
   "metadata": {},
   "outputs": [
    {
     "data": {
      "text/plain": [
       "[2,\n",
       " 3,\n",
       " 5,\n",
       " 7,\n",
       " 11,\n",
       " 13,\n",
       " 17,\n",
       " 19,\n",
       " 23,\n",
       " 29,\n",
       " 31,\n",
       " 37,\n",
       " 41,\n",
       " 43,\n",
       " 47,\n",
       " 53,\n",
       " 59,\n",
       " 61,\n",
       " 67,\n",
       " 71,\n",
       " 73,\n",
       " 79,\n",
       " 83,\n",
       " 89,\n",
       " 97]"
      ]
     },
     "execution_count": 5,
     "metadata": {},
     "output_type": "execute_result"
    }
   ],
   "source": [
    "result = prime(100)\n",
    "result"
   ]
  }
 ],
 "metadata": {
  "kernelspec": {
   "display_name": "Python 3",
   "language": "python",
   "name": "python3"
  },
  "language_info": {
   "codemirror_mode": {
    "name": "ipython",
    "version": 3
   },
   "file_extension": ".py",
   "mimetype": "text/x-python",
   "name": "python",
   "nbconvert_exporter": "python",
   "pygments_lexer": "ipython3",
   "version": "3.8.3"
  }
 },
 "nbformat": 4,
 "nbformat_minor": 4
}
