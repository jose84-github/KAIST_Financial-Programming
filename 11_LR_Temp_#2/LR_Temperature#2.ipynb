{
 "cells": [
  {
   "cell_type": "code",
   "execution_count": 94,
   "metadata": {},
   "outputs": [],
   "source": [
    "import csv"
   ]
  },
  {
   "cell_type": "code",
   "execution_count": 95,
   "metadata": {},
   "outputs": [],
   "source": [
    "def max_temp(filename):\n",
    "    f = open(filename)\n",
    "    data=csv.reader(f)\n",
    "    header = next(data)\n",
    "    max_temp = -99\n",
    "    max_date = ''\n",
    "\n",
    "    for high in data:\n",
    "        if high[-1]=='':\n",
    "            high[-1] = '-99'\n",
    "        if float(high[-1]) > max_temp:\n",
    "            max_temp = float(high[-1])\n",
    "            max_date = high[0]\n",
    "\n",
    "    return max_date, max_temp"
   ]
  },
  {
   "cell_type": "code",
   "execution_count": 96,
   "metadata": {},
   "outputs": [
    {
     "data": {
      "text/plain": [
       "('2018-08-01', 39.6)"
      ]
     },
     "execution_count": 96,
     "metadata": {},
     "output_type": "execute_result"
    }
   ],
   "source": [
    "max_temp('seoul.csv')"
   ]
  },
  {
   "cell_type": "code",
   "execution_count": 97,
   "metadata": {},
   "outputs": [],
   "source": [
    "def min_temp_in_year(filename, year):\n",
    "    f = open(filename)\n",
    "    data=csv.reader(f)\n",
    "    header = next(data)\n",
    "    min_temp = 99\n",
    "    min_date = ''\n",
    "\n",
    "    for row in data:\n",
    "        y = int(row[0].split('-')[0])\n",
    "        if row[-2]=='':\n",
    "            row[-2] = '99'\n",
    "        if y == year and float(row[-2]) < min_temp:\n",
    "            min_temp = float(row[-2])\n",
    "            min_date = row[0]\n",
    "\n",
    "    return min_date, min_temp"
   ]
  },
  {
   "cell_type": "code",
   "execution_count": 101,
   "metadata": {},
   "outputs": [
    {
     "data": {
      "text/plain": [
       "('2000-01-07', -12.1)"
      ]
     },
     "execution_count": 101,
     "metadata": {},
     "output_type": "execute_result"
    }
   ],
   "source": [
    "min_temp_in_year('seoul.csv', 2000)"
   ]
  },
  {
   "cell_type": "code",
   "execution_count": 99,
   "metadata": {},
   "outputs": [],
   "source": [
    "def second_min_temp(filename):\n",
    "    f = open(filename)\n",
    "    data=csv.reader(f)\n",
    "    header = next(data)\n",
    "    temp_list=[]\n",
    "\n",
    "    for row in data:\n",
    "        if row[-2]=='':\n",
    "            row[-2] = '99'\n",
    "        d_temp = float(row[-2])\n",
    "        d_date = row[0]\n",
    "        temp_list.append([d_date, d_temp])\n",
    "    \n",
    "    temp_list.sort(key=lambda x : x[1])\n",
    "    \n",
    "    return temp_list[1][0], temp_list[1][1]"
   ]
  },
  {
   "cell_type": "code",
   "execution_count": 100,
   "metadata": {},
   "outputs": [
    {
     "data": {
      "text/plain": [
       "('1931-01-11', -22.5)"
      ]
     },
     "execution_count": 100,
     "metadata": {},
     "output_type": "execute_result"
    }
   ],
   "source": [
    "second_min_temp('seoul.csv')"
   ]
  }
 ],
 "metadata": {
  "kernelspec": {
   "display_name": "Python 3",
   "language": "python",
   "name": "python3"
  },
  "language_info": {
   "codemirror_mode": {
    "name": "ipython",
    "version": 3
   },
   "file_extension": ".py",
   "mimetype": "text/x-python",
   "name": "python",
   "nbconvert_exporter": "python",
   "pygments_lexer": "ipython3",
   "version": "3.8.3"
  }
 },
 "nbformat": 4,
 "nbformat_minor": 4
}
