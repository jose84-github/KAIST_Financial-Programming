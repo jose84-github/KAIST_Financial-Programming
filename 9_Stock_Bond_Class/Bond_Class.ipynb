{
 "cells": [
  {
   "cell_type": "code",
   "execution_count": 13,
   "metadata": {},
   "outputs": [],
   "source": [
    "import numpy as np"
   ]
  },
  {
   "cell_type": "code",
   "execution_count": 14,
   "metadata": {},
   "outputs": [],
   "source": [
    "class TypeCheckingException(Exception):\n",
    "    def __init__(self,type_in,type_exp):\n",
    "        self.type_in = type_in\n",
    "        self.type_exp = type_exp"
   ]
  },
  {
   "cell_type": "code",
   "execution_count": 65,
   "metadata": {},
   "outputs": [],
   "source": [
    "class Bond:\n",
    "    def __init__(self, face_v:float, mat:int, coupon:float, freq:int, ytm:float):\n",
    "        \n",
    "        #init function operate typechecking first, if there is no error, it will assign the value to self instance\n",
    "        \n",
    "        if isinstance(face_v, float) == 0:\n",
    "            raise TypeCheckingException(type(face_v), float)\n",
    "        elif face_v <= 0:\n",
    "            raise Exception(\"Negative number is not supported\")\n",
    "        else:\n",
    "            self.face_v = face_v\n",
    "                \n",
    "        if isinstance(mat, int) == 0:\n",
    "            raise TypeCheckingException(type(mat), int)\n",
    "        elif mat <= 0:\n",
    "            raise Exception(\"Negative number is not supported\")\n",
    "        else:\n",
    "            self.mat = mat\n",
    "                    \n",
    "        if isinstance(coupon, float) == 0:\n",
    "            raise TypeCheckingException(type(coupon), float)\n",
    "        else:\n",
    "            self.coupon = 0\n",
    "                    \n",
    "        if isinstance(freq, int) == 0:\n",
    "            raise TypeCheckingException(type(freq), int)\n",
    "        elif freq <= 0:\n",
    "            raise Exception(\"Negative freq is not supported\")\n",
    "        else:\n",
    "            self.freq = freq\n",
    "        \n",
    "        if isinstance(ytm, float) == 0:\n",
    "            raise TypeCheckingException(type(ytm), float)\n",
    "        elif ytm <= 0:\n",
    "            raise Exception(\"Negative rate is not supported\")\n",
    "        else:\n",
    "            self.ytm = ytm\n",
    "    \n",
    "    def get_FV(self):\n",
    "        return self.face_v\n",
    "    \n",
    "    def get_Mat(self):\n",
    "        return self.Mat\n",
    "        \n",
    "    def get_Coupon(self):\n",
    "        return self.coupon\n",
    "    \n",
    "    def get_freq(self):\n",
    "        return self.freq\n",
    "    \n",
    "    def get_ytm(self):\n",
    "        return self.ytm\n",
    "    \n",
    "    def set_FV(self, fv):\n",
    "        if isinstance(fv, float) == 0:\n",
    "            raise TypeCheckingException(type(fv), float)\n",
    "        elif fv <= 0:\n",
    "            raise Exception(\"Negative number is not supported\")\n",
    "        else:\n",
    "            self.face_v = fv\n",
    "        \n",
    "    def set_Mat(self, t):\n",
    "        if isinstance(t, int) == 0:\n",
    "            raise TypeCheckingException(type(t), int)\n",
    "        elif t <= 0:\n",
    "            raise Exception(\"Negative number is not supported\")\n",
    "        else:\n",
    "            self.mat = t\n",
    "    \n",
    "    def set_freq(self, f):\n",
    "        if isinstance(f, int) == 0:\n",
    "            raise TypeCheckingException(type(f), int)\n",
    "        elif f <= 0:\n",
    "            raise Exception(\"Negative freq is not supported\")\n",
    "        else:\n",
    "            self.freq = f\n",
    "    \n",
    "    def set_ytm(self, r):\n",
    "        if isinstance(r, float) == 0:\n",
    "            raise TypeCheckingException(type(r), float)\n",
    "        elif r <= 0:\n",
    "            raise Exception(\"Negative rate is not supported\")\n",
    "        else:\n",
    "            self.ytm = r\n",
    "        \n",
    "    def bond_price(self):\n",
    "        c_price = self.face_v * (self.coupon/self.freq)\n",
    "        time = np.arange(1/self.freq, self.mat, 1/self.freq)\n",
    "        dcf = c_price * np.exp(-self.ytm*time)\n",
    "        return (sum(dcf)+self.face_v*np.exp(-self.ytm*self.mat))"
   ]
  },
  {
   "cell_type": "code",
   "execution_count": 66,
   "metadata": {},
   "outputs": [],
   "source": [
    "class coup_Bond(Bond):\n",
    "    def __init__(self, face_v, mat, coupon, freq, ytm):\n",
    "        Bond.__init__(self, face_v, mat, coupon, freq, ytm)\n",
    "        \n",
    "        if isinstance(coupon, float) == 0:\n",
    "            raise TypeCheckingException(type(coupon), float)\n",
    "        elif coupon == 0:\n",
    "            raise Exception(\"This is Coupon bond\")\n",
    "        else:\n",
    "            self.coupon = coupon\n",
    "    \n",
    "    def set_Coupon(self, c):\n",
    "        if isinstance(c, float) == 0:\n",
    "            raise TypeCheckingException(type(c), float)\n",
    "        elif c <= 0:\n",
    "            raise Exception(\"Negative number is not supported\")\n",
    "        else:\n",
    "            self.coupon = c"
   ]
  },
  {
   "cell_type": "code",
   "execution_count": 67,
   "metadata": {},
   "outputs": [],
   "source": [
    "bond = Bond(100.0,3,0.0,4,0.01)"
   ]
  },
  {
   "cell_type": "code",
   "execution_count": 68,
   "metadata": {},
   "outputs": [
    {
     "data": {
      "text/plain": [
       "97.04455335485082"
      ]
     },
     "execution_count": 68,
     "metadata": {},
     "output_type": "execute_result"
    }
   ],
   "source": [
    "bond.bond_price()"
   ]
  },
  {
   "cell_type": "code",
   "execution_count": 69,
   "metadata": {},
   "outputs": [],
   "source": [
    "c_bond = coup_Bond(100.0,3,0.04,4,0.01)"
   ]
  },
  {
   "cell_type": "code",
   "execution_count": 70,
   "metadata": {},
   "outputs": [
    {
     "data": {
      "text/plain": [
       "107.88112332585317"
      ]
     },
     "execution_count": 70,
     "metadata": {},
     "output_type": "execute_result"
    }
   ],
   "source": [
    "c_bond.bond_price()"
   ]
  },
  {
   "cell_type": "code",
   "execution_count": 79,
   "metadata": {},
   "outputs": [],
   "source": [
    "c_bond.set_Coupon(0.02)"
   ]
  },
  {
   "cell_type": "code",
   "execution_count": 80,
   "metadata": {},
   "outputs": [
    {
     "data": {
      "text/plain": [
       "99.51457099898771"
      ]
     },
     "execution_count": 80,
     "metadata": {},
     "output_type": "execute_result"
    }
   ],
   "source": [
    "c_bond.bond_price()"
   ]
  }
 ],
 "metadata": {
  "kernelspec": {
   "display_name": "Python 3",
   "language": "python",
   "name": "python3"
  },
  "language_info": {
   "codemirror_mode": {
    "name": "ipython",
    "version": 3
   },
   "file_extension": ".py",
   "mimetype": "text/x-python",
   "name": "python",
   "nbconvert_exporter": "python",
   "pygments_lexer": "ipython3",
   "version": "3.8.3"
  }
 },
 "nbformat": 4,
 "nbformat_minor": 4
}
