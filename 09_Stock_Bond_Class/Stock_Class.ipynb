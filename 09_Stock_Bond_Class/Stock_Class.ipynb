{
 "cells": [
  {
   "cell_type": "code",
   "execution_count": 10,
   "metadata": {},
   "outputs": [],
   "source": [
    "class TypeCheckingException(Exception):\n",
    "    def __init__(self,type_in,type_exp):\n",
    "        self.type_in = type_in\n",
    "        self.type_exp = type_exp"
   ]
  },
  {
   "cell_type": "code",
   "execution_count": 11,
   "metadata": {},
   "outputs": [],
   "source": [
    "class Stock:\n",
    "    def __init__(self, id:int, name:str, pre_price:int, cur_price:int):\n",
    "        \n",
    "        #init function operate typechecking first, if there is no error, it will assign the value to self instance\n",
    "        \n",
    "        if isinstance(id, int) == 0:\n",
    "            raise TypeCheckingException(type(id), int)\n",
    "        elif id > 999999:\n",
    "            raise Exception(\"It's too huge number\")\n",
    "        else:\n",
    "            self.id = str(id)\n",
    "                \n",
    "        if isinstance(name, str) == 0:\n",
    "            raise TypeCheckingException(type(name), str)\n",
    "        elif len(name) > 10:\n",
    "            raise Exception(\"Length of name : 1~10\")\n",
    "        else:\n",
    "            self.name = name\n",
    "                    \n",
    "        if isinstance(pre_price, int) == 0:\n",
    "            raise TypeCheckingException(type(pre_price), int)\n",
    "        elif pre_price <= 0:\n",
    "            raise Exception(\"Negative price is not supported\")\n",
    "        else:\n",
    "            self.pre_price = pre_price\n",
    "                    \n",
    "        if isinstance(cur_price, int) == 0:\n",
    "            raise TypeCheckingException(type(cur_price), int)\n",
    "        elif cur_price <= 0:\n",
    "            raise Exception(\"Negative price is not supported\")\n",
    "        else:\n",
    "            self.cur_price = cur_price\n",
    "    \n",
    "    def get_Id(self):\n",
    "        return self.id\n",
    "    \n",
    "    def get_Type(self):\n",
    "        return self.type\n",
    "        \n",
    "    def get_Name(self):\n",
    "        return self.name\n",
    "    \n",
    "    def get_prev_Price(self):\n",
    "        return self.pre_price\n",
    "    \n",
    "    def get_cur_Price(self):\n",
    "        return self.cur_price\n",
    "    \n",
    "    def get_change(self):\n",
    "        return self.cur_price - self.pre_price\n",
    "    \n",
    "    def set_Type(self, new_type):\n",
    "        self.type = new_type\n",
    "        \n",
    "    def set_Name(self, new_name):\n",
    "        self.name = new_name\n",
    "        \n",
    "    def set_prev_Price(self, new_prev_price):\n",
    "        self.pre_price = new_prev_price\n",
    "    \n",
    "    def set_cur_Price(self, new_cur_price):\n",
    "        self.pre_price = cur_price\n",
    "        self.cur_price = new_cur_price\n",
    "        \n",
    "    def stock_split(self,n):\n",
    "        self.pre_price = self.cur_price\n",
    "        self.cur_price = round(self.cur_price / n, 0)\n",
    "        print('Splited by 1/{0}, previous price : {1}, current price : {2}'.format(n, self.pre_price, self.cur_price))\n",
    "    \n",
    "    def stock_merge(self,n):\n",
    "        self.pre_price = self.cur_price\n",
    "        self.cur_price = round(self.cur_price * n, 0)\n",
    "        print('Splited by x{0}, previous price : {1}, current price : {2}'.format(n, self.pre_price, self.cur_price))"
   ]
  },
  {
   "cell_type": "code",
   "execution_count": 12,
   "metadata": {},
   "outputs": [],
   "source": [
    "class common_Stock(Stock):\n",
    "    def __init__(self, id, name, pre_price, cur_price, voting_n:float):\n",
    "        Stock.__init__(self, id, name, pre_price, cur_price)\n",
    "        self.s_type = 'common'\n",
    "           \n",
    "        if isinstance(voting_n, float) == 0:\n",
    "            raise TypeCheckingException(type(voting_n), float)\n",
    "        elif voting_n <= 0:\n",
    "            raise Exception(\"Negative number is not supported\")\n",
    "        else:\n",
    "            self.voting_n = voting_n\n",
    "    \n",
    "    def get_Type(self):\n",
    "        return self.s_type\n",
    "    \n",
    "    def set_Voting_n(self, n):\n",
    "        if isinstance(n, float) == 0:\n",
    "            raise TypeCheckingException(type(n), float)\n",
    "        elif n <= 0:\n",
    "            raise Exception(\"Negative number is not supported\")\n",
    "        else:\n",
    "            self.voting_n = n\n",
    "    \n",
    "    def get_Voting_n(self):\n",
    "        return self.voting_n"
   ]
  },
  {
   "cell_type": "code",
   "execution_count": 13,
   "metadata": {},
   "outputs": [],
   "source": [
    "class pref_Stock(Stock):\n",
    "    def __init__(self, id, name, pre_price, cur_price, div_n):\n",
    "        Stock.__init__(self, id, name, pre_price, cur_price)\n",
    "        self.s_type = 'preferred'\n",
    "        \n",
    "        if isinstance(div_n, float) == 0:\n",
    "            raise TypeCheckingException(type(div_n), float)\n",
    "        elif div_n <= 0:\n",
    "            raise Exception(\"Negative number is not supported\")\n",
    "        else:\n",
    "            self.div_n = div_n\n",
    "        \n",
    "    def get_Type(self):\n",
    "        return self.s_type\n",
    "    \n",
    "    def set_Div_n(self, n):\n",
    "        if isinstance(n, float) == 0:\n",
    "            raise TypeCheckingException(type(n), float)\n",
    "        elif n <= 0:\n",
    "            raise Exception(\"Negative number is not supported\")\n",
    "        else:\n",
    "            self.div_n = n\n",
    "    \n",
    "    def get_Div_n(self):\n",
    "        return self.div_n"
   ]
  },
  {
   "cell_type": "code",
   "execution_count": 14,
   "metadata": {},
   "outputs": [],
   "source": [
    "stock = Stock(999999,'kiaaaaaa', 1000, 80000)"
   ]
  },
  {
   "cell_type": "code",
   "execution_count": 15,
   "metadata": {},
   "outputs": [
    {
     "name": "stdout",
     "output_type": "stream",
     "text": [
      "Splited by 1/3, previous price : 80000, current price : 26667.0\n"
     ]
    }
   ],
   "source": [
    "stock.stock_split(3)"
   ]
  },
  {
   "cell_type": "code",
   "execution_count": 16,
   "metadata": {},
   "outputs": [],
   "source": [
    "com_stock = common_Stock(99999,'samsung', 1000, 100000, 1.5)"
   ]
  },
  {
   "cell_type": "code",
   "execution_count": 17,
   "metadata": {},
   "outputs": [
    {
     "data": {
      "text/plain": [
       "'common'"
      ]
     },
     "execution_count": 17,
     "metadata": {},
     "output_type": "execute_result"
    }
   ],
   "source": [
    "com_stock.get_Type()"
   ]
  },
  {
   "cell_type": "code",
   "execution_count": 20,
   "metadata": {},
   "outputs": [],
   "source": [
    "pre_stock = pref_Stock(99999, 'hyundai', 1000, 130000, 0.05)"
   ]
  },
  {
   "cell_type": "code",
   "execution_count": 21,
   "metadata": {},
   "outputs": [
    {
     "data": {
      "text/plain": [
       "0.05"
      ]
     },
     "execution_count": 21,
     "metadata": {},
     "output_type": "execute_result"
    }
   ],
   "source": [
    "pre_stock.get_Div_n()"
   ]
  }
 ],
 "metadata": {
  "kernelspec": {
   "display_name": "Python 3",
   "language": "python",
   "name": "python3"
  },
  "language_info": {
   "codemirror_mode": {
    "name": "ipython",
    "version": 3
   },
   "file_extension": ".py",
   "mimetype": "text/x-python",
   "name": "python",
   "nbconvert_exporter": "python",
   "pygments_lexer": "ipython3",
   "version": "3.8.3"
  }
 },
 "nbformat": 4,
 "nbformat_minor": 4
}
