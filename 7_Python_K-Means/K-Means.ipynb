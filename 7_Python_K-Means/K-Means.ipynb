{
 "cells": [
  {
   "cell_type": "code",
   "execution_count": 2,
   "metadata": {},
   "outputs": [],
   "source": [
    "import numpy as np\n",
    "\n",
    "def distance(data, c):\n",
    "    k=len(c)\n",
    "    n=len(data)\n",
    "    d=np.zeros([k,n])\n",
    "    for i in range(k):\n",
    "        for j in range(n):\n",
    "            d[i,j]=np.sqrt((c[i,0]-data[j,0])**2+(c[i,1]-data[j,1])**2)\n",
    "    return d"
   ]
  },
  {
   "cell_type": "code",
   "execution_count": 3,
   "metadata": {},
   "outputs": [
    {
     "name": "stdout",
     "output_type": "stream",
     "text": [
      "iteration =  1\n",
      "[1 2 0 ... 2 2 2]\n",
      "iteration =  2\n",
      "[1 1 1 ... 2 2 2]\n",
      "iteration =  3\n",
      "[1 1 0 ... 2 2 2]\n",
      "iteration =  4\n",
      "[0 1 0 ... 2 2 2]\n",
      "iteration =  5\n",
      "[0 1 0 ... 2 2 2]\n",
      "iteration =  6\n",
      "[0 1 0 ... 2 2 2]\n",
      "iteration =  7\n",
      "[0 1 0 ... 2 2 1]\n",
      "iteration =  8\n",
      "[0 0 0 ... 1 2 1]\n",
      "iteration =  9\n",
      "[0 0 0 ... 1 1 1]\n",
      "iteration =  10\n",
      "[0 0 0 ... 1 1 1]\n",
      "iteration =  11\n",
      "[0 0 0 ... 1 1 1]\n",
      "iteration =  12\n",
      "[0 0 0 ... 1 1 1]\n"
     ]
    }
   ],
   "source": [
    "import pandas as pd\n",
    "\n",
    "df=pd.read_csv('xy.csv')\n",
    "data=np.array(df)\n",
    "c=np.array([[1,1],[2,1],[3,1]])\n",
    "c=np.array(c,dtype='float64')\n",
    "\n",
    "import copy\n",
    "\n",
    "eq=0\n",
    "iter=1\n",
    "\n",
    "while eq!=1:\n",
    "    print('iteration = ',iter)\n",
    "    c_old=copy.deepcopy(c)\n",
    "    D=distance(data,c)\n",
    "    G=np.argmin(D,0)\n",
    "    k=len(c)\n",
    "\n",
    "    for i in range(k):\n",
    "        datai=[data[j] for j in range(len(data)) if G[j]==i]\n",
    "        c[i]=np.mean(datai,0)\n",
    "        \n",
    "    eq=np.mean(np.equal(c,c_old))\n",
    "    iter+=1\n",
    "    print(G)"
   ]
  },
  {
   "cell_type": "code",
   "execution_count": 8,
   "metadata": {},
   "outputs": [
    {
     "data": {
      "text/plain": [
       "<matplotlib.collections.PathCollection at 0x2483d12f280>"
      ]
     },
     "execution_count": 8,
     "metadata": {},
     "output_type": "execute_result"
    },
    {
     "data": {
      "image/png": "[encoded data removed]",
      "text/plain": [
       "<Figure size 432x288 with 1 Axes>"
      ]
     },
     "metadata": {
      "needs_background": "light"
     },
     "output_type": "display_data"
    }
   ],
   "source": [
    "import matplotlib.pyplot as plt\n",
    "%matplotlib inline\n",
    "\n",
    "plt.scatter(data[:,0], data[:,1], c='black')\n",
    "plt.scatter(c[:,0], c[:,1], marker='*', c='r', s=100)"
   ]
  }
 ],
 "metadata": {
  "kernelspec": {
   "display_name": "Python 3",
   "language": "python",
   "name": "python3"
  },
  "language_info": {
   "codemirror_mode": {
    "name": "ipython",
    "version": 3
   },
   "file_extension": ".py",
   "mimetype": "text/x-python",
   "name": "python",
   "nbconvert_exporter": "python",
   "pygments_lexer": "ipython3",
   "version": "3.8.3"
  }
 },
 "nbformat": 4,
 "nbformat_minor": 4
}
